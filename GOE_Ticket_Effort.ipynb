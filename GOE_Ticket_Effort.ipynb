{
 "cells": [
  {
   "cell_type": "code",
   "execution_count": 644,
   "metadata": {},
   "outputs": [],
   "source": [
    "import pandas as pd"
   ]
  },
  {
   "cell_type": "code",
   "execution_count": 645,
   "metadata": {},
   "outputs": [],
   "source": [
    "# Reading the csv file and storing in to TimeSheet dataframe"
   ]
  },
  {
   "cell_type": "code",
   "execution_count": 646,
   "metadata": {},
   "outputs": [],
   "source": [
    "TimeSheet = pd.read_csv(\"D:/Neo/Experiments/TimeSheet.csv\") "
   ]
  },
  {
   "cell_type": "code",
   "execution_count": 647,
   "metadata": {},
   "outputs": [],
   "source": [
    "# Extracting the development effort by identifying the stories"
   ]
  },
  {
   "cell_type": "code",
   "execution_count": 648,
   "metadata": {},
   "outputs": [],
   "source": [
    "story=TimeSheet[\"Issue Type\"] == \"Story\"  "
   ]
  },
  {
   "cell_type": "code",
   "execution_count": 649,
   "metadata": {},
   "outputs": [],
   "source": [
    "newgoe=TimeSheet[\"Reporter\"] == \"vinotha.s\""
   ]
  },
  {
   "cell_type": "code",
   "execution_count": 650,
   "metadata": {},
   "outputs": [],
   "source": [
    "goedev=TimeSheet[\"Time Spent\"] > 0"
   ]
  },
  {
   "cell_type": "code",
   "execution_count": 651,
   "metadata": {},
   "outputs": [],
   "source": [
    "dev_efforts=TimeSheet[story & newgoe & goedev].groupby('Issue id')['Time Spent'].sum().reset_index(name ='Dev_Hours')"
   ]
  },
  {
   "cell_type": "code",
   "execution_count": 652,
   "metadata": {},
   "outputs": [],
   "source": [
    "dev_efforts[\"Dev_Hours\"] = dev_efforts[\"Dev_Hours\"]/3600"
   ]
  },
  {
   "cell_type": "code",
   "execution_count": 653,
   "metadata": {},
   "outputs": [],
   "source": [
    "# Extracting the sub task efforts by identifying the sub tasks"
   ]
  },
  {
   "cell_type": "code",
   "execution_count": 654,
   "metadata": {},
   "outputs": [],
   "source": [
    "subtasks=TimeSheet[\"Issue Type\"] == \"Sub-task\""
   ]
  },
  {
   "cell_type": "code",
   "execution_count": 655,
   "metadata": {},
   "outputs": [],
   "source": [
    "efforts_st=TimeSheet[subtasks]"
   ]
  },
  {
   "cell_type": "code",
   "execution_count": 656,
   "metadata": {},
   "outputs": [],
   "source": [
    "# Seggregating the different types of sub tasks"
   ]
  },
  {
   "cell_type": "code",
   "execution_count": 657,
   "metadata": {},
   "outputs": [],
   "source": [
    "efforts_ds=efforts_st[\"Summary\"].str.contains(\"Design\")"
   ]
  },
  {
   "cell_type": "code",
   "execution_count": 658,
   "metadata": {},
   "outputs": [],
   "source": [
    "efforts_bfix=efforts_st[\"Summary\"].str.contains(\"Fixing\")"
   ]
  },
  {
   "cell_type": "code",
   "execution_count": 659,
   "metadata": {},
   "outputs": [],
   "source": [
    "efforts_ret=efforts_st[\"Summary\"].str.contains(\"Retesting\")"
   ]
  },
  {
   "cell_type": "code",
   "execution_count": 660,
   "metadata": {},
   "outputs": [],
   "source": [
    "efforts_tes=efforts_st[\"Summary\"].str.contains(\"Testing\")"
   ]
  },
  {
   "cell_type": "code",
   "execution_count": 661,
   "metadata": {},
   "outputs": [],
   "source": [
    "# Calculating the design effort"
   ]
  },
  {
   "cell_type": "code",
   "execution_count": 662,
   "metadata": {},
   "outputs": [],
   "source": [
    "des_efforts=efforts_st[efforts_ds].groupby('Parent id')['Time Spent'].sum().reset_index(name ='Design_Hours')"
   ]
  },
  {
   "cell_type": "code",
   "execution_count": 663,
   "metadata": {},
   "outputs": [],
   "source": [
    "des_efforts[\"Parent id\"]= des_efforts[\"Parent id\"].astype(int)"
   ]
  },
  {
   "cell_type": "code",
   "execution_count": 664,
   "metadata": {},
   "outputs": [],
   "source": [
    "des_efforts[\"Design_Hours\"]= des_efforts[\"Design_Hours\"]/3600"
   ]
  },
  {
   "cell_type": "code",
   "execution_count": 665,
   "metadata": {},
   "outputs": [],
   "source": [
    "# Calculating the bug fix effort"
   ]
  },
  {
   "cell_type": "code",
   "execution_count": 666,
   "metadata": {},
   "outputs": [],
   "source": [
    "bugfix_efforts=efforts_st[efforts_bfix].groupby('Parent id')['Time Spent'].sum().reset_index(name ='BugFix_Hours')\n"
   ]
  },
  {
   "cell_type": "code",
   "execution_count": 667,
   "metadata": {},
   "outputs": [],
   "source": [
    "bugfix_efforts[\"Parent id\"]= bugfix_efforts[\"Parent id\"].astype(int)\n"
   ]
  },
  {
   "cell_type": "code",
   "execution_count": 668,
   "metadata": {},
   "outputs": [],
   "source": [
    "bugfix_efforts[\"BugFix_Hours\"]= round(bugfix_efforts[\"BugFix_Hours\"]/3600,2)\n"
   ]
  },
  {
   "cell_type": "code",
   "execution_count": 669,
   "metadata": {},
   "outputs": [],
   "source": [
    "# Calculating the bug retesting effort"
   ]
  },
  {
   "cell_type": "code",
   "execution_count": 670,
   "metadata": {},
   "outputs": [],
   "source": [
    "bugret_efforts=efforts_st[efforts_ret].groupby('Parent id')['Time Spent'].sum().reset_index(name ='BugRetest_Hours')"
   ]
  },
  {
   "cell_type": "code",
   "execution_count": 671,
   "metadata": {},
   "outputs": [],
   "source": [
    "bugret_efforts[\"Parent id\"]= bugret_efforts[\"Parent id\"].astype(int)"
   ]
  },
  {
   "cell_type": "code",
   "execution_count": 672,
   "metadata": {},
   "outputs": [],
   "source": [
    "bugret_efforts[\"BugRetest_Hours\"]= bugret_efforts[\"BugRetest_Hours\"]/3600"
   ]
  },
  {
   "cell_type": "code",
   "execution_count": 673,
   "metadata": {},
   "outputs": [],
   "source": [
    "# Calculating the testing effort"
   ]
  },
  {
   "cell_type": "code",
   "execution_count": 674,
   "metadata": {},
   "outputs": [],
   "source": [
    "Test_efforts=efforts_st[efforts_tes].groupby('Parent id')['Time Spent'].sum().reset_index(name ='Test_Hours')"
   ]
  },
  {
   "cell_type": "code",
   "execution_count": 675,
   "metadata": {},
   "outputs": [],
   "source": [
    "Test_efforts[\"Parent id\"]= Test_efforts[\"Parent id\"].astype(int)"
   ]
  },
  {
   "cell_type": "code",
   "execution_count": 676,
   "metadata": {},
   "outputs": [],
   "source": [
    "Test_efforts[\"Test_Hours\"]= Test_efforts[\"Test_Hours\"]/3600"
   ]
  },
  {
   "cell_type": "code",
   "execution_count": 677,
   "metadata": {},
   "outputs": [],
   "source": [
    "# Merging the design, testing, restesting and bug fixing efforts to subtaskeffort"
   ]
  },
  {
   "cell_type": "code",
   "execution_count": 678,
   "metadata": {},
   "outputs": [],
   "source": [
    "subtaskeffort = pd.merge(des_efforts,Test_efforts, on=\"Parent id\",how=\"outer\")"
   ]
  },
  {
   "cell_type": "code",
   "execution_count": 679,
   "metadata": {},
   "outputs": [],
   "source": [
    "subtaskeffort = pd.merge(subtaskeffort,bugfix_efforts, on=\"Parent id\",how=\"outer\")"
   ]
  },
  {
   "cell_type": "code",
   "execution_count": 680,
   "metadata": {},
   "outputs": [],
   "source": [
    "subtaskeffort = pd.merge(subtaskeffort,bugret_efforts, on=\"Parent id\",how=\"outer\")"
   ]
  },
  {
   "cell_type": "code",
   "execution_count": 681,
   "metadata": {},
   "outputs": [],
   "source": [
    "# Renaming the columns to \"Id\" for dev effort and for the sub task effort"
   ]
  },
  {
   "cell_type": "code",
   "execution_count": 682,
   "metadata": {},
   "outputs": [],
   "source": [
    "dev_efforts=dev_efforts.rename(index=str,columns = {\"Issue id\":\"Id\"})"
   ]
  },
  {
   "cell_type": "code",
   "execution_count": 683,
   "metadata": {},
   "outputs": [],
   "source": [
    "subtaskeffort= subtaskeffort.rename(index=str,columns = {\"Parent id\":\"Id\"})"
   ]
  },
  {
   "cell_type": "code",
   "execution_count": 684,
   "metadata": {},
   "outputs": [],
   "source": [
    "# Extracting the data issue id and issue key to a new dataframe to combine with the rest and also rename the column to \"id\""
   ]
  },
  {
   "cell_type": "code",
   "execution_count": 685,
   "metadata": {},
   "outputs": [],
   "source": [
    "ticket_id=TimeSheet[story & newgoe & goedev].filter(['Issue id','Issue key'], axis=1)"
   ]
  },
  {
   "cell_type": "code",
   "execution_count": 686,
   "metadata": {},
   "outputs": [],
   "source": [
    "ticket_id=ticket_id.rename(index=str,columns = {\"Issue id\":\"Id\"})"
   ]
  },
  {
   "cell_type": "code",
   "execution_count": 687,
   "metadata": {},
   "outputs": [],
   "source": [
    "storyeffort=pd.merge(dev_efforts,subtaskeffort,on=\"Id\",how=\"outer\")"
   ]
  },
  {
   "cell_type": "code",
   "execution_count": 688,
   "metadata": {},
   "outputs": [],
   "source": [
    "storyeffort=pd.merge(storyeffort,ticket_id,on=\"Id\",how=\"outer\")"
   ]
  },
  {
   "cell_type": "code",
   "execution_count": 689,
   "metadata": {},
   "outputs": [],
   "source": [
    "storyeffort=storyeffort.fillna(0)"
   ]
  },
  {
   "cell_type": "code",
   "execution_count": 690,
   "metadata": {},
   "outputs": [],
   "source": [
    "col_list= list(storyeffort)\n",
    "col_list.remove('Id')\n",
    "col_list.remove('Issue key')"
   ]
  },
  {
   "cell_type": "code",
   "execution_count": 691,
   "metadata": {},
   "outputs": [],
   "source": [
    "storyeffort[\"Total Hours\"] = storyeffort[col_list].sum(axis=1)"
   ]
  },
  {
   "cell_type": "code",
   "execution_count": 692,
   "metadata": {},
   "outputs": [
    {
     "data": {
      "text/html": [
       "<div>\n",
       "<style scoped>\n",
       "    .dataframe tbody tr th:only-of-type {\n",
       "        vertical-align: middle;\n",
       "    }\n",
       "\n",
       "    .dataframe tbody tr th {\n",
       "        vertical-align: top;\n",
       "    }\n",
       "\n",
       "    .dataframe thead th {\n",
       "        text-align: right;\n",
       "    }\n",
       "</style>\n",
       "<table border=\"1\" class=\"dataframe\">\n",
       "  <thead>\n",
       "    <tr style=\"text-align: right;\">\n",
       "      <th></th>\n",
       "      <th>Id</th>\n",
       "      <th>Dev_Hours</th>\n",
       "      <th>Design_Hours</th>\n",
       "      <th>Test_Hours</th>\n",
       "      <th>BugFix_Hours</th>\n",
       "      <th>BugRetest_Hours</th>\n",
       "      <th>Issue key</th>\n",
       "      <th>Total Hours</th>\n",
       "    </tr>\n",
       "  </thead>\n",
       "  <tbody>\n",
       "    <tr>\n",
       "      <th>0</th>\n",
       "      <td>36423</td>\n",
       "      <td>8.00</td>\n",
       "      <td>0.00</td>\n",
       "      <td>0.0</td>\n",
       "      <td>0.00</td>\n",
       "      <td>0.0</td>\n",
       "      <td>ENBD-172</td>\n",
       "      <td>8.00</td>\n",
       "    </tr>\n",
       "    <tr>\n",
       "      <th>1</th>\n",
       "      <td>36559</td>\n",
       "      <td>76.25</td>\n",
       "      <td>5.50</td>\n",
       "      <td>6.5</td>\n",
       "      <td>60.50</td>\n",
       "      <td>10.0</td>\n",
       "      <td>ENBD-176</td>\n",
       "      <td>158.75</td>\n",
       "    </tr>\n",
       "    <tr>\n",
       "      <th>2</th>\n",
       "      <td>36562</td>\n",
       "      <td>7.25</td>\n",
       "      <td>33.50</td>\n",
       "      <td>14.0</td>\n",
       "      <td>9.00</td>\n",
       "      <td>0.0</td>\n",
       "      <td>ENBD-177</td>\n",
       "      <td>63.75</td>\n",
       "    </tr>\n",
       "    <tr>\n",
       "      <th>3</th>\n",
       "      <td>36563</td>\n",
       "      <td>114.75</td>\n",
       "      <td>0.00</td>\n",
       "      <td>0.0</td>\n",
       "      <td>0.00</td>\n",
       "      <td>0.0</td>\n",
       "      <td>ENBD-178</td>\n",
       "      <td>114.75</td>\n",
       "    </tr>\n",
       "    <tr>\n",
       "      <th>4</th>\n",
       "      <td>36565</td>\n",
       "      <td>8.00</td>\n",
       "      <td>7.75</td>\n",
       "      <td>8.0</td>\n",
       "      <td>46.17</td>\n",
       "      <td>4.0</td>\n",
       "      <td>ENBD-180</td>\n",
       "      <td>73.92</td>\n",
       "    </tr>\n",
       "    <tr>\n",
       "      <th>5</th>\n",
       "      <td>36574</td>\n",
       "      <td>2.00</td>\n",
       "      <td>36.50</td>\n",
       "      <td>0.0</td>\n",
       "      <td>21.00</td>\n",
       "      <td>5.5</td>\n",
       "      <td>ENBD-185</td>\n",
       "      <td>65.00</td>\n",
       "    </tr>\n",
       "    <tr>\n",
       "      <th>6</th>\n",
       "      <td>36578</td>\n",
       "      <td>71.00</td>\n",
       "      <td>5.00</td>\n",
       "      <td>10.0</td>\n",
       "      <td>0.00</td>\n",
       "      <td>2.5</td>\n",
       "      <td>ENBD-186</td>\n",
       "      <td>88.50</td>\n",
       "    </tr>\n",
       "    <tr>\n",
       "      <th>7</th>\n",
       "      <td>36579</td>\n",
       "      <td>72.50</td>\n",
       "      <td>4.00</td>\n",
       "      <td>0.0</td>\n",
       "      <td>26.75</td>\n",
       "      <td>0.0</td>\n",
       "      <td>ENBD-187</td>\n",
       "      <td>103.25</td>\n",
       "    </tr>\n",
       "    <tr>\n",
       "      <th>8</th>\n",
       "      <td>36580</td>\n",
       "      <td>49.50</td>\n",
       "      <td>1.00</td>\n",
       "      <td>6.5</td>\n",
       "      <td>30.00</td>\n",
       "      <td>0.0</td>\n",
       "      <td>ENBD-188</td>\n",
       "      <td>87.00</td>\n",
       "    </tr>\n",
       "    <tr>\n",
       "      <th>9</th>\n",
       "      <td>36592</td>\n",
       "      <td>35.00</td>\n",
       "      <td>0.00</td>\n",
       "      <td>0.0</td>\n",
       "      <td>1.00</td>\n",
       "      <td>1.5</td>\n",
       "      <td>ENBD-189</td>\n",
       "      <td>37.50</td>\n",
       "    </tr>\n",
       "    <tr>\n",
       "      <th>10</th>\n",
       "      <td>36593</td>\n",
       "      <td>37.00</td>\n",
       "      <td>3.00</td>\n",
       "      <td>9.0</td>\n",
       "      <td>0.00</td>\n",
       "      <td>4.0</td>\n",
       "      <td>ENBD-190</td>\n",
       "      <td>53.00</td>\n",
       "    </tr>\n",
       "    <tr>\n",
       "      <th>11</th>\n",
       "      <td>36607</td>\n",
       "      <td>3.00</td>\n",
       "      <td>8.00</td>\n",
       "      <td>0.0</td>\n",
       "      <td>0.00</td>\n",
       "      <td>0.0</td>\n",
       "      <td>ENBD-192</td>\n",
       "      <td>11.00</td>\n",
       "    </tr>\n",
       "    <tr>\n",
       "      <th>12</th>\n",
       "      <td>36608</td>\n",
       "      <td>4.00</td>\n",
       "      <td>30.75</td>\n",
       "      <td>5.0</td>\n",
       "      <td>22.50</td>\n",
       "      <td>0.0</td>\n",
       "      <td>ENBD-193</td>\n",
       "      <td>62.25</td>\n",
       "    </tr>\n",
       "    <tr>\n",
       "      <th>13</th>\n",
       "      <td>36609</td>\n",
       "      <td>39.00</td>\n",
       "      <td>42.75</td>\n",
       "      <td>0.0</td>\n",
       "      <td>0.00</td>\n",
       "      <td>0.0</td>\n",
       "      <td>ENBD-194</td>\n",
       "      <td>81.75</td>\n",
       "    </tr>\n",
       "    <tr>\n",
       "      <th>14</th>\n",
       "      <td>36611</td>\n",
       "      <td>2.00</td>\n",
       "      <td>3.00</td>\n",
       "      <td>5.0</td>\n",
       "      <td>0.00</td>\n",
       "      <td>0.0</td>\n",
       "      <td>ENBD-196</td>\n",
       "      <td>10.00</td>\n",
       "    </tr>\n",
       "    <tr>\n",
       "      <th>15</th>\n",
       "      <td>36612</td>\n",
       "      <td>49.25</td>\n",
       "      <td>10.00</td>\n",
       "      <td>0.0</td>\n",
       "      <td>0.00</td>\n",
       "      <td>0.0</td>\n",
       "      <td>ENBD-197</td>\n",
       "      <td>59.25</td>\n",
       "    </tr>\n",
       "    <tr>\n",
       "      <th>16</th>\n",
       "      <td>36613</td>\n",
       "      <td>2.00</td>\n",
       "      <td>0.00</td>\n",
       "      <td>0.0</td>\n",
       "      <td>0.00</td>\n",
       "      <td>0.0</td>\n",
       "      <td>ENBD-198</td>\n",
       "      <td>2.00</td>\n",
       "    </tr>\n",
       "    <tr>\n",
       "      <th>17</th>\n",
       "      <td>36614</td>\n",
       "      <td>8.00</td>\n",
       "      <td>0.00</td>\n",
       "      <td>0.0</td>\n",
       "      <td>0.00</td>\n",
       "      <td>0.0</td>\n",
       "      <td>ENBD-199</td>\n",
       "      <td>8.00</td>\n",
       "    </tr>\n",
       "    <tr>\n",
       "      <th>18</th>\n",
       "      <td>36615</td>\n",
       "      <td>52.00</td>\n",
       "      <td>6.00</td>\n",
       "      <td>7.0</td>\n",
       "      <td>32.50</td>\n",
       "      <td>0.0</td>\n",
       "      <td>ENBD-200</td>\n",
       "      <td>97.50</td>\n",
       "    </tr>\n",
       "    <tr>\n",
       "      <th>19</th>\n",
       "      <td>36616</td>\n",
       "      <td>7.00</td>\n",
       "      <td>0.00</td>\n",
       "      <td>0.0</td>\n",
       "      <td>0.00</td>\n",
       "      <td>0.0</td>\n",
       "      <td>ENBD-201</td>\n",
       "      <td>7.00</td>\n",
       "    </tr>\n",
       "    <tr>\n",
       "      <th>20</th>\n",
       "      <td>36617</td>\n",
       "      <td>38.50</td>\n",
       "      <td>1.00</td>\n",
       "      <td>7.0</td>\n",
       "      <td>18.25</td>\n",
       "      <td>3.5</td>\n",
       "      <td>ENBD-202</td>\n",
       "      <td>68.25</td>\n",
       "    </tr>\n",
       "    <tr>\n",
       "      <th>21</th>\n",
       "      <td>36620</td>\n",
       "      <td>216.25</td>\n",
       "      <td>0.00</td>\n",
       "      <td>0.0</td>\n",
       "      <td>0.00</td>\n",
       "      <td>0.0</td>\n",
       "      <td>ENBD-203</td>\n",
       "      <td>216.25</td>\n",
       "    </tr>\n",
       "    <tr>\n",
       "      <th>22</th>\n",
       "      <td>36698</td>\n",
       "      <td>40.00</td>\n",
       "      <td>10.00</td>\n",
       "      <td>10.5</td>\n",
       "      <td>56.25</td>\n",
       "      <td>2.0</td>\n",
       "      <td>ENBD-227</td>\n",
       "      <td>118.75</td>\n",
       "    </tr>\n",
       "    <tr>\n",
       "      <th>23</th>\n",
       "      <td>36719</td>\n",
       "      <td>106.75</td>\n",
       "      <td>2.00</td>\n",
       "      <td>0.0</td>\n",
       "      <td>0.00</td>\n",
       "      <td>0.0</td>\n",
       "      <td>ENBD-230</td>\n",
       "      <td>108.75</td>\n",
       "    </tr>\n",
       "    <tr>\n",
       "      <th>24</th>\n",
       "      <td>36720</td>\n",
       "      <td>49.75</td>\n",
       "      <td>71.00</td>\n",
       "      <td>32.5</td>\n",
       "      <td>0.00</td>\n",
       "      <td>0.0</td>\n",
       "      <td>ENBD-231</td>\n",
       "      <td>153.25</td>\n",
       "    </tr>\n",
       "    <tr>\n",
       "      <th>25</th>\n",
       "      <td>36568</td>\n",
       "      <td>0.00</td>\n",
       "      <td>2.00</td>\n",
       "      <td>3.0</td>\n",
       "      <td>28.58</td>\n",
       "      <td>0.0</td>\n",
       "      <td>0</td>\n",
       "      <td>33.58</td>\n",
       "    </tr>\n",
       "    <tr>\n",
       "      <th>26</th>\n",
       "      <td>36572</td>\n",
       "      <td>0.00</td>\n",
       "      <td>0.00</td>\n",
       "      <td>7.5</td>\n",
       "      <td>0.00</td>\n",
       "      <td>0.0</td>\n",
       "      <td>0</td>\n",
       "      <td>7.50</td>\n",
       "    </tr>\n",
       "    <tr>\n",
       "      <th>27</th>\n",
       "      <td>36610</td>\n",
       "      <td>0.00</td>\n",
       "      <td>2.00</td>\n",
       "      <td>4.0</td>\n",
       "      <td>14.50</td>\n",
       "      <td>1.5</td>\n",
       "      <td>0</td>\n",
       "      <td>22.00</td>\n",
       "    </tr>\n",
       "    <tr>\n",
       "      <th>28</th>\n",
       "      <td>36723</td>\n",
       "      <td>0.00</td>\n",
       "      <td>0.00</td>\n",
       "      <td>0.0</td>\n",
       "      <td>0.00</td>\n",
       "      <td>0.0</td>\n",
       "      <td>0</td>\n",
       "      <td>0.00</td>\n",
       "    </tr>\n",
       "  </tbody>\n",
       "</table>\n",
       "</div>"
      ],
      "text/plain": [
       "       Id  Dev_Hours  Design_Hours  Test_Hours  BugFix_Hours  BugRetest_Hours  \\\n",
       "0   36423       8.00          0.00         0.0          0.00              0.0   \n",
       "1   36559      76.25          5.50         6.5         60.50             10.0   \n",
       "2   36562       7.25         33.50        14.0          9.00              0.0   \n",
       "3   36563     114.75          0.00         0.0          0.00              0.0   \n",
       "4   36565       8.00          7.75         8.0         46.17              4.0   \n",
       "5   36574       2.00         36.50         0.0         21.00              5.5   \n",
       "6   36578      71.00          5.00        10.0          0.00              2.5   \n",
       "7   36579      72.50          4.00         0.0         26.75              0.0   \n",
       "8   36580      49.50          1.00         6.5         30.00              0.0   \n",
       "9   36592      35.00          0.00         0.0          1.00              1.5   \n",
       "10  36593      37.00          3.00         9.0          0.00              4.0   \n",
       "11  36607       3.00          8.00         0.0          0.00              0.0   \n",
       "12  36608       4.00         30.75         5.0         22.50              0.0   \n",
       "13  36609      39.00         42.75         0.0          0.00              0.0   \n",
       "14  36611       2.00          3.00         5.0          0.00              0.0   \n",
       "15  36612      49.25         10.00         0.0          0.00              0.0   \n",
       "16  36613       2.00          0.00         0.0          0.00              0.0   \n",
       "17  36614       8.00          0.00         0.0          0.00              0.0   \n",
       "18  36615      52.00          6.00         7.0         32.50              0.0   \n",
       "19  36616       7.00          0.00         0.0          0.00              0.0   \n",
       "20  36617      38.50          1.00         7.0         18.25              3.5   \n",
       "21  36620     216.25          0.00         0.0          0.00              0.0   \n",
       "22  36698      40.00         10.00        10.5         56.25              2.0   \n",
       "23  36719     106.75          2.00         0.0          0.00              0.0   \n",
       "24  36720      49.75         71.00        32.5          0.00              0.0   \n",
       "25  36568       0.00          2.00         3.0         28.58              0.0   \n",
       "26  36572       0.00          0.00         7.5          0.00              0.0   \n",
       "27  36610       0.00          2.00         4.0         14.50              1.5   \n",
       "28  36723       0.00          0.00         0.0          0.00              0.0   \n",
       "\n",
       "   Issue key  Total Hours  \n",
       "0   ENBD-172         8.00  \n",
       "1   ENBD-176       158.75  \n",
       "2   ENBD-177        63.75  \n",
       "3   ENBD-178       114.75  \n",
       "4   ENBD-180        73.92  \n",
       "5   ENBD-185        65.00  \n",
       "6   ENBD-186        88.50  \n",
       "7   ENBD-187       103.25  \n",
       "8   ENBD-188        87.00  \n",
       "9   ENBD-189        37.50  \n",
       "10  ENBD-190        53.00  \n",
       "11  ENBD-192        11.00  \n",
       "12  ENBD-193        62.25  \n",
       "13  ENBD-194        81.75  \n",
       "14  ENBD-196        10.00  \n",
       "15  ENBD-197        59.25  \n",
       "16  ENBD-198         2.00  \n",
       "17  ENBD-199         8.00  \n",
       "18  ENBD-200        97.50  \n",
       "19  ENBD-201         7.00  \n",
       "20  ENBD-202        68.25  \n",
       "21  ENBD-203       216.25  \n",
       "22  ENBD-227       118.75  \n",
       "23  ENBD-230       108.75  \n",
       "24  ENBD-231       153.25  \n",
       "25         0        33.58  \n",
       "26         0         7.50  \n",
       "27         0        22.00  \n",
       "28         0         0.00  "
      ]
     },
     "execution_count": 692,
     "metadata": {},
     "output_type": "execute_result"
    }
   ],
   "source": [
    "storyeffort"
   ]
  },
  {
   "cell_type": "code",
   "execution_count": null,
   "metadata": {},
   "outputs": [],
   "source": []
  }
 ],
 "metadata": {
  "kernelspec": {
   "display_name": "Python 3",
   "language": "python",
   "name": "python3"
  },
  "language_info": {
   "codemirror_mode": {
    "name": "ipython",
    "version": 3
   },
   "file_extension": ".py",
   "mimetype": "text/x-python",
   "name": "python",
   "nbconvert_exporter": "python",
   "pygments_lexer": "ipython3",
   "version": "3.6.4"
  }
 },
 "nbformat": 4,
 "nbformat_minor": 2
}
